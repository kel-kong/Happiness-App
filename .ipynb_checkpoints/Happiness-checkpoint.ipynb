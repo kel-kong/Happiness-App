{
 "cells": [
  {
   "cell_type": "code",
   "execution_count": 113,
   "id": "631d8cb3",
   "metadata": {},
   "outputs": [],
   "source": [
    "import os\n",
    "import pymysql\n",
    "import pandas as pd\n",
    "import altair as alt\n",
    "import warnings\n",
    "warnings.filterwarnings('ignore')"
   ]
  },
  {
   "cell_type": "markdown",
   "id": "6c0c2826",
   "metadata": {},
   "source": [
    "## Connecting to Database"
   ]
  },
  {
   "cell_type": "code",
   "execution_count": 114,
   "id": "155eeb41",
   "metadata": {},
   "outputs": [],
   "source": [
    "host = os.getenv('MYSQL_HOST')\n",
    "port = os.getenv('MYSQL_PORT')\n",
    "user = os.getenv('MYSQL_USER')\n",
    "password = \"cricket123\"\n",
    "database = os.getenv('MYSQL_DATABASE')"
   ]
  },
  {
   "cell_type": "code",
   "execution_count": 115,
   "id": "4f03ca9c",
   "metadata": {},
   "outputs": [],
   "source": [
    "conn = pymysql.connect(\n",
    "    host = host,\n",
    "    port = port,\n",
    "    user = \"root\",\n",
    "    passwd = password,\n",
    "    db = \"happiness\")"
   ]
  },
  {
   "cell_type": "markdown",
   "id": "3ad2f2a4",
   "metadata": {},
   "source": [
    "## Streamlit App Misc."
   ]
  },
  {
   "cell_type": "markdown",
   "id": "f3252b05",
   "metadata": {},
   "source": [
    "### In order to create a dropdown menu with the different countries and regions options, below is how I got a list of countries/regions"
   ]
  },
  {
   "cell_type": "code",
   "execution_count": 116,
   "id": "e330ff3e",
   "metadata": {},
   "outputs": [
    {
     "name": "stdout",
     "output_type": "stream",
     "text": [
      "['Afghanistan', 'Albania', 'Algeria', 'Angola', 'Argentina', 'Armenia', 'Australia', 'Austria', 'Azerbaijan', 'Bahrain', 'Bangladesh', 'Belarus', 'Belgium', 'Benin', 'Bhutan', 'Bolivia', 'Bosnia and Herzegovina', 'Botswana', 'Brazil', 'Bulgaria', 'Burkina Faso', 'Burundi', 'Cambodia', 'Cameroon', 'Canada', 'Central African Republic', 'Chad', 'Chile', 'China', 'Colombia', 'Comoros', 'Congo (Brazzaville)', 'Congo (Kinshasa)', 'Costa Rica', 'Croatia', 'Cyprus', 'Czech Republic', 'Denmark', 'Djibouti', 'Dominican Republic', 'Ecuador', 'Egypt', 'El Salvador', 'Estonia', 'Ethiopia', 'Finland', 'France', 'Gabon', 'Georgia', 'Germany', 'Ghana', 'Greece', 'Guatemala', 'Guinea', 'Haiti', 'Honduras', 'Hong Kong', 'Hungary', 'Iceland', 'India', 'Indonesia', 'Iran', 'Iraq', 'Ireland', 'Israel', 'Italy', 'Ivory Coast', 'Jamaica', 'Japan', 'Jordan', 'Kazakhstan', 'Kenya', 'Kosovo', 'Kuwait', 'Kyrgyzstan', 'Laos', 'Latvia', 'Lebanon', 'Lesotho', 'Liberia', 'Libya', 'Lithuania', 'Luxembourg', 'Macedonia', 'Madagascar', 'Malawi', 'Malaysia', 'Mali', 'Malta', 'Mauritania', 'Mauritius', 'Mexico', 'Moldova', 'Mongolia', 'Montenegro', 'Morocco', 'Mozambique', 'Myanmar', 'Nepal', 'Netherlands', 'New Zealand', 'Nicaragua', 'Niger', 'Nigeria', 'North Cyprus', 'Norway', 'Oman', 'Pakistan', 'Palestinian Territories', 'Panama', 'Paraguay', 'Peru', 'Philippines', 'Poland', 'Portugal', 'Qatar', 'Romania', 'Russia', 'Rwanda', 'Saudi Arabia', 'Senegal', 'Serbia', 'Sierra Leone', 'Singapore', 'Slovakia', 'Slovenia', 'Somaliland region', 'South Africa', 'South Korea', 'Spain', 'Sri Lanka', 'Sudan', 'Suriname', 'Swaziland', 'Sweden', 'Switzerland', 'Syria', 'Taiwan', 'Tajikistan', 'Tanzania', 'Thailand', 'Togo', 'Trinidad and Tobago', 'Tunisia', 'Turkey', 'Turkmenistan', 'Uganda', 'Ukraine', 'United Arab Emirates', 'United Kingdom', 'United States', 'Uruguay', 'Uzbekistan', 'Venezuela', 'Vietnam', 'Yemen', 'Zambia', 'Zimbabwe']\n"
     ]
    }
   ],
   "source": [
    "# used the year 2015 because it had the most countries among the years\n",
    "country = pd.read_sql_query(\"SELECT DISTINCT `Country` FROM `happiness`.`2015` ORDER BY `Country` ASC;\", conn)\n",
    "countries_list = country['Country'].to_list()\n",
    "print(countries_list)"
   ]
  },
  {
   "cell_type": "code",
   "execution_count": 117,
   "id": "b207a94b",
   "metadata": {
    "scrolled": true
   },
   "outputs": [
    {
     "name": "stdout",
     "output_type": "stream",
     "text": [
      "['Australia and New Zealand', 'Central and Eastern Europe', 'Eastern Asia', 'Latin America and Caribbean', 'Middle East and Northern Africa', 'North America', 'Southeastern Asia', 'Southern Asia', 'Sub-Saharan Africa', 'Western Europe']\n"
     ]
    }
   ],
   "source": [
    "region = pd.read_sql_query(\"SELECT DISTINCT `Region` FROM `happiness`.`2015` ORDER BY `Region` ASC;\", conn)\n",
    "regions_list = region['Region'].to_list()\n",
    "print(regions_list)"
   ]
  },
  {
   "cell_type": "markdown",
   "id": "f35437ab",
   "metadata": {},
   "source": [
    "## Question #1"
   ]
  },
  {
   "cell_type": "markdown",
   "id": "7d92be6d",
   "metadata": {},
   "source": [
    "### Finds the rank difference of the selected country against the two different years selected"
   ]
  },
  {
   "cell_type": "markdown",
   "id": "8043c057",
   "metadata": {},
   "source": [
    "#### Step 1: Choose the year and country wanted"
   ]
  },
  {
   "cell_type": "code",
   "execution_count": 118,
   "id": "0ea1bc13",
   "metadata": {},
   "outputs": [],
   "source": [
    "# YEARS TO CHOOSE FROM: 2015, 2016, 2017, 2018, 2019 (make sure to put into string form)\n",
    "starting_year = \"2015\"\n",
    "ending_year = \"2019\"\n",
    "country = \"Netherlands\""
   ]
  },
  {
   "cell_type": "code",
   "execution_count": 119,
   "id": "3a48a234",
   "metadata": {},
   "outputs": [
    {
     "data": {
      "text/html": [
       "<div>\n",
       "<style scoped>\n",
       "    .dataframe tbody tr th:only-of-type {\n",
       "        vertical-align: middle;\n",
       "    }\n",
       "\n",
       "    .dataframe tbody tr th {\n",
       "        vertical-align: top;\n",
       "    }\n",
       "\n",
       "    .dataframe thead th {\n",
       "        text-align: right;\n",
       "    }\n",
       "</style>\n",
       "<table border=\"1\" class=\"dataframe\">\n",
       "  <thead>\n",
       "    <tr style=\"text-align: right;\">\n",
       "      <th></th>\n",
       "      <th>country</th>\n",
       "      <th>Happiness Rank Difference</th>\n",
       "    </tr>\n",
       "  </thead>\n",
       "  <tbody>\n",
       "    <tr>\n",
       "      <th>0</th>\n",
       "      <td>Netherlands</td>\n",
       "      <td>2</td>\n",
       "    </tr>\n",
       "  </tbody>\n",
       "</table>\n",
       "</div>"
      ],
      "text/plain": [
       "       country  Happiness Rank Difference\n",
       "0  Netherlands                          2"
      ]
     },
     "execution_count": 119,
     "metadata": {},
     "output_type": "execute_result"
    }
   ],
   "source": [
    "query1 = \"SELECT happiness.`\" + starting_year + \"`.`country`, happiness.`\" + \\\n",
    "          starting_year + \"`.`Happiness Rank` - happiness.`\" + ending_year + \\\n",
    "          \"`.`Happiness Rank` AS 'Happiness Rank Difference' FROM happiness.`\" + \\\n",
    "          ending_year + \"` INNER JOIN happiness.`\" + starting_year + \\\n",
    "          \"` ON happiness.`\" + ending_year + \"`.`Country` = happiness.`\" + starting_year + \\\n",
    "          \"`.`Country` WHERE happiness.`\" + ending_year + \"`.`Country` = '\" + country + \"'\"\n",
    "df1 = pd.read_sql_query(query1, conn)\n",
    "df1"
   ]
  },
  {
   "cell_type": "markdown",
   "id": "7b77f26b",
   "metadata": {},
   "source": [
    "## Question #2"
   ]
  },
  {
   "cell_type": "markdown",
   "id": "595e4e3d",
   "metadata": {},
   "source": [
    "### Finds the average rank difference amongst countries in the selected region against the two different years selected"
   ]
  },
  {
   "cell_type": "code",
   "execution_count": 120,
   "id": "5160faae",
   "metadata": {},
   "outputs": [],
   "source": [
    "# YEARS TO CHOOSE FROM: 2015, 2016, 2017, 2018, 2019 (make sure to put into string form)\n",
    "starting_year = \"2015\"\n",
    "ending_year = \"2019\"\n",
    "region = \"North America\""
   ]
  },
  {
   "cell_type": "code",
   "execution_count": 121,
   "id": "03ac5034",
   "metadata": {},
   "outputs": [
    {
     "data": {
      "text/html": [
       "<div>\n",
       "<style scoped>\n",
       "    .dataframe tbody tr th:only-of-type {\n",
       "        vertical-align: middle;\n",
       "    }\n",
       "\n",
       "    .dataframe tbody tr th {\n",
       "        vertical-align: top;\n",
       "    }\n",
       "\n",
       "    .dataframe thead th {\n",
       "        text-align: right;\n",
       "    }\n",
       "</style>\n",
       "<table border=\"1\" class=\"dataframe\">\n",
       "  <thead>\n",
       "    <tr style=\"text-align: right;\">\n",
       "      <th></th>\n",
       "      <th>region</th>\n",
       "      <th>Happiness Rank Difference</th>\n",
       "    </tr>\n",
       "  </thead>\n",
       "  <tbody>\n",
       "    <tr>\n",
       "      <th>0</th>\n",
       "      <td>North America</td>\n",
       "      <td>-4.0</td>\n",
       "    </tr>\n",
       "  </tbody>\n",
       "</table>\n",
       "</div>"
      ],
      "text/plain": [
       "          region  Happiness Rank Difference\n",
       "0  North America                       -4.0"
      ]
     },
     "execution_count": 121,
     "metadata": {},
     "output_type": "execute_result"
    }
   ],
   "source": [
    "query2 = \"SELECT happiness.`\" + starting_year + \"`.`region`, AVG(happiness.`\" + \\\n",
    "          starting_year + \"`.`Happiness Rank` - happiness.`\" + ending_year + \\\n",
    "          \"`.`Happiness Rank`) AS 'Happiness Rank Difference' FROM happiness.`\" + \\\n",
    "          ending_year + \"` INNER JOIN happiness.`\" + starting_year + \"` ON happiness.`\" + \\\n",
    "          ending_year + \"`.`Country` = happiness.`\" + starting_year + \"`.`Country` WHERE happiness.`\" + \\\n",
    "          starting_year + \"`.`region` = '\" + region + \"' GROUP BY `\" + starting_year + \"`.`region`\"\n",
    "df2 = pd.read_sql_query(query2, conn)\n",
    "df2"
   ]
  },
  {
   "cell_type": "markdown",
   "id": "706da691",
   "metadata": {},
   "source": [
    "## Question 3"
   ]
  },
  {
   "cell_type": "markdown",
   "id": "f5085818",
   "metadata": {},
   "source": [
    "### Out of curiosity, I wanted to see the breakdown of the factors that impacts the Happiness Rank and Score"
   ]
  },
  {
   "cell_type": "code",
   "execution_count": 122,
   "id": "d2e5837b",
   "metadata": {},
   "outputs": [],
   "source": [
    "starting_year = \"2015\"\n",
    "ending_year = \"2019\"\n",
    "country = 'Netherlands'"
   ]
  },
  {
   "cell_type": "code",
   "execution_count": 123,
   "id": "ff9c3a64",
   "metadata": {},
   "outputs": [
    {
     "data": {
      "text/html": [
       "<div>\n",
       "<style scoped>\n",
       "    .dataframe tbody tr th:only-of-type {\n",
       "        vertical-align: middle;\n",
       "    }\n",
       "\n",
       "    .dataframe tbody tr th {\n",
       "        vertical-align: top;\n",
       "    }\n",
       "\n",
       "    .dataframe thead th {\n",
       "        text-align: right;\n",
       "    }\n",
       "</style>\n",
       "<table border=\"1\" class=\"dataframe\">\n",
       "  <thead>\n",
       "    <tr style=\"text-align: right;\">\n",
       "      <th></th>\n",
       "      <th>country</th>\n",
       "      <th>Happiness Rank Difference</th>\n",
       "      <th>Happiness Score Difference</th>\n",
       "      <th>Economic Difference</th>\n",
       "      <th>Health Difference</th>\n",
       "      <th>Freedom Difference</th>\n",
       "      <th>Governmental Difference</th>\n",
       "    </tr>\n",
       "  </thead>\n",
       "  <tbody>\n",
       "    <tr>\n",
       "      <th>0</th>\n",
       "      <td>Netherlands</td>\n",
       "      <td>2</td>\n",
       "      <td>0.11</td>\n",
       "      <td>0.0666</td>\n",
       "      <td>0.1062</td>\n",
       "      <td>-0.0588</td>\n",
       "      <td>-0.0201</td>\n",
       "    </tr>\n",
       "  </tbody>\n",
       "</table>\n",
       "</div>"
      ],
      "text/plain": [
       "       country  Happiness Rank Difference  Happiness Score Difference  \\\n",
       "0  Netherlands                          2                        0.11   \n",
       "\n",
       "   Economic Difference  Health Difference  Freedom Difference  \\\n",
       "0               0.0666             0.1062             -0.0588   \n",
       "\n",
       "   Governmental Difference  \n",
       "0                  -0.0201  "
      ]
     },
     "execution_count": 123,
     "metadata": {},
     "output_type": "execute_result"
    }
   ],
   "source": [
    "query3 = \"SELECT happiness.`\" + starting_year + \"`.`country`,(happiness.`\" + starting_year + \\\n",
    "\"`.`Happiness Rank` - happiness.`\" + ending_year + \"`.`Happiness Rank`) AS 'Happiness Rank Difference', ROUND(happiness.`\" \\\n",
    "+ ending_year + \"`.`Happiness Score` - happiness.`\" + starting_year + \\\n",
    "\"`.`Happiness Score`, 4) AS 'Happiness Score Difference', ROUND(happiness.`\" + ending_year + \\\n",
    "\"`.`Economy` - happiness.`\" + starting_year + \"`.`Economy`, 4) AS 'Economic Difference', ROUND(happiness.`\" + \\\n",
    "ending_year + \"`.`Health` - happiness.`\" + starting_year + \"`.`Health`, 4) AS 'Health Difference', ROUND(happiness.`\" + \\\n",
    "ending_year + \"`.`Freedom` - happiness.`\" + starting_year + \"`.`Freedom`, 4) AS 'Freedom Difference', ROUND(happiness.`\" + \\\n",
    "ending_year + \"`.`Government` - happiness.`\" + starting_year + \"`.`Government`, 4) AS 'Governmental Difference' FROM happiness.`\" + \\\n",
    "ending_year + \"`INNER JOIN happiness.`\" + starting_year + \"`ON happiness.`\" + \\\n",
    "ending_year + \"`.`Country` = happiness.`\" + starting_year + \"`.`Country` WHERE `\" + starting_year + \"`.`Country` = '\" + country + \"'\"\n",
    "\n",
    "diff = pd.read_sql_query(query3, conn)\n",
    "diff"
   ]
  },
  {
   "cell_type": "markdown",
   "id": "d4d26ea3",
   "metadata": {},
   "source": [
    "### Interactive Plot: to visualize difference in economy, health, freedom, and government\n",
    "#### - click left key for individual categories and hold shift for multiple - "
   ]
  },
  {
   "cell_type": "code",
   "execution_count": 124,
   "id": "ede70079",
   "metadata": {},
   "outputs": [
    {
     "data": {
      "application/vnd.vegalite.v4+json": {
       "$schema": "https://vega.github.io/schema/vega-lite/v4.17.0.json",
       "config": {
        "view": {
         "continuousHeight": 300,
         "continuousWidth": 400
        }
       },
       "datasets": {
        "data-c5cba7b0977e3917b40859c80914be5a": [
         {
          "Category": "Economy"
         },
         {
          "Category": "Health"
         },
         {
          "Category": "Freedom"
         },
         {
          "Category": "Government"
         }
        ],
        "data-d6cab32ccd4ef2d7566a38db6bde2a3e": [
         {
          "Category": "Economy",
          "Category Score": 1.32944,
          "Year": "2015"
         },
         {
          "Category": "Economy",
          "Category Score": 1.396,
          "Year": "2019"
         },
         {
          "Category": "Health",
          "Category Score": 0.89284,
          "Year": "2015"
         },
         {
          "Category": "Health",
          "Category Score": 0.999,
          "Year": "2019"
         },
         {
          "Category": "Freedom",
          "Category Score": 0.61576,
          "Year": "2015"
         },
         {
          "Category": "Freedom",
          "Category Score": 0.557,
          "Year": "2019"
         },
         {
          "Category": "Government",
          "Category Score": 0.31814,
          "Year": "2015"
         },
         {
          "Category": "Government",
          "Category Score": 0.298,
          "Year": "2019"
         }
        ]
       },
       "hconcat": [
        {
         "data": {
          "name": "data-c5cba7b0977e3917b40859c80914be5a"
         },
         "encoding": {
          "color": {
           "condition": {
            "field": "Category",
            "selection": "selector028",
            "type": "nominal"
           },
           "value": "lightgray"
          },
          "y": {
           "field": "Category",
           "type": "nominal"
          }
         },
         "mark": "rect",
         "selection": {
          "selector028": {
           "fields": [
            "Category"
           ],
           "type": "multi"
          }
         }
        },
        {
         "data": {
          "name": "data-d6cab32ccd4ef2d7566a38db6bde2a3e"
         },
         "encoding": {
          "color": {
           "field": "Category",
           "type": "nominal"
          },
          "x": {
           "field": "Year",
           "type": "nominal"
          },
          "y": {
           "field": "Category Score",
           "scale": {
            "domain": [
             0,
             2
            ]
           },
           "type": "quantitative"
          }
         },
         "mark": "line",
         "title": "Comparing Scores Affecting Happiness",
         "transform": [
          {
           "filter": {
            "selection": "selector028"
           }
          }
         ],
         "width": 250
        }
       ]
      },
      "text/plain": [
       "<VegaLite 4 object>\n",
       "\n",
       "If you see this message, it means the renderer has not been properly enabled\n",
       "for the frontend that you are using. For more information, see\n",
       "https://altair-viz.github.io/user_guide/troubleshooting.html\n"
      ]
     },
     "execution_count": 124,
     "metadata": {},
     "output_type": "execute_result"
    }
   ],
   "source": [
    "start = \"SELECT `Country`, `Happiness Rank`, `Happiness Score`, `Economy`, `Health`, `Freedom`, `Government` FROM `Happiness`.`\" + starting_year + \"` WHERE `Country` = '\" + country + \"'\"\n",
    "end = \"SELECT `Country`, `Happiness Rank`, `Happiness Score`, `Economy`, `Health`, `Freedom`, `Government` FROM `Happiness`.`\" + ending_year + \"` WHERE `Country` = '\" + country + \"'\"\n",
    "\n",
    "start_df = pd.read_sql_query(start, conn)\n",
    "start_df['Year'] = start_df['Year'] = starting_year\n",
    "end_df = pd.read_sql_query(end, conn)\n",
    "end_df['Year'] = end_df['Year'] = ending_year\n",
    "\n",
    "all_df = pd.concat([start_df, end_df])\n",
    "new_df = pd.melt(all_df, id_vars=['Year'], value_vars=['Economy', 'Health', 'Freedom', 'Government'], var_name = \"Category\")\n",
    "new_df = new_df.rename(columns = {'value': 'Category Score'})\n",
    "\n",
    "category = pd.DataFrame({'Category': ['Economy', 'Health', 'Freedom', 'Government']})\n",
    "selection = alt.selection_multi(fields=['Category'])\n",
    "color = alt.condition(selection, alt.Color('Category:N'), alt.value('lightgray'))\n",
    "make_selector = alt.Chart(category).mark_rect().encode(y='Category', color=color).add_selection(selection)\n",
    "score_chart = alt.Chart(new_df).mark_line().encode(x='Year:N', y=alt.Y('Category Score:Q', scale=alt.Scale(domain=[0, 2])), color='Category').transform_filter(selection).properties(title = \"Comparing Scores Affecting Happiness\", width = 250)\n",
    "\n",
    "make_selector | score_chart\n"
   ]
  },
  {
   "cell_type": "code",
   "execution_count": null,
   "id": "328c0826",
   "metadata": {},
   "outputs": [],
   "source": []
  }
 ],
 "metadata": {
  "kernelspec": {
   "display_name": "Python 3 (ipykernel)",
   "language": "python",
   "name": "python3"
  },
  "language_info": {
   "codemirror_mode": {
    "name": "ipython",
    "version": 3
   },
   "file_extension": ".py",
   "mimetype": "text/x-python",
   "name": "python",
   "nbconvert_exporter": "python",
   "pygments_lexer": "ipython3",
   "version": "3.9.7"
  }
 },
 "nbformat": 4,
 "nbformat_minor": 5
}

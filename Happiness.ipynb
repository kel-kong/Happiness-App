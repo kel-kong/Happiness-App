{
 "cells": [
  {
   "cell_type": "code",
   "execution_count": 17,
   "id": "631d8cb3",
   "metadata": {},
   "outputs": [],
   "source": [
    "import os\n",
    "import pymysql\n",
    "import pandas as pd\n",
    "import altair as alt\n",
    "import warnings\n",
    "warnings.filterwarnings('ignore')"
   ]
  },
  {
   "cell_type": "markdown",
   "id": "6c0c2826",
   "metadata": {},
   "source": [
    "## Connecting to Database"
   ]
  },
  {
   "cell_type": "code",
   "execution_count": 18,
   "id": "155eeb41",
   "metadata": {},
   "outputs": [],
   "source": [
    "host = os.getenv('MYSQL_HOST')\n",
    "port = os.getenv('MYSQL_PORT')\n",
    "user = os.getenv('MYSQL_USER')\n",
    "password = \"cricket123\"\n",
    "database = os.getenv('MYSQL_DATABASE')"
   ]
  },
  {
   "cell_type": "code",
   "execution_count": 19,
   "id": "4f03ca9c",
   "metadata": {},
   "outputs": [],
   "source": [
    "conn = pymysql.connect(\n",
    "    host = host,\n",
    "    port = port,\n",
    "    user = \"root\",\n",
    "    passwd = password,\n",
    "    db = \"happiness\")"
   ]
  },
  {
   "cell_type": "markdown",
   "id": "3ad2f2a4",
   "metadata": {},
   "source": [
    "## Streamlit App Misc."
   ]
  },
  {
   "cell_type": "markdown",
   "id": "f3252b05",
   "metadata": {},
   "source": [
    "### In order to create a dropdown menu with the different countries and regions options, below is how I got a list of countries/regions"
   ]
  },
  {
   "cell_type": "code",
   "execution_count": 9,
   "id": "e330ff3e",
   "metadata": {},
   "outputs": [
    {
     "name": "stdout",
     "output_type": "stream",
     "text": [
      "['Afghanistan', 'Albania', 'Algeria', 'Angola', 'Argentina', 'Armenia', 'Australia', 'Austria', 'Azerbaijan', 'Bahrain', 'Bangladesh', 'Belarus', 'Belgium', 'Benin', 'Bhutan', 'Bolivia', 'Bosnia and Herzegovina', 'Botswana', 'Brazil', 'Bulgaria', 'Burkina Faso', 'Burundi', 'Cambodia', 'Cameroon', 'Canada', 'Central African Republic', 'Chad', 'Chile', 'China', 'Colombia', 'Comoros', 'Congo (Brazzaville)', 'Congo (Kinshasa)', 'Costa Rica', 'Croatia', 'Cyprus', 'Czech Republic', 'Denmark', 'Djibouti', 'Dominican Republic', 'Ecuador', 'Egypt', 'El Salvador', 'Estonia', 'Ethiopia', 'Finland', 'France', 'Gabon', 'Georgia', 'Germany', 'Ghana', 'Greece', 'Guatemala', 'Guinea', 'Haiti', 'Honduras', 'Hong Kong', 'Hungary', 'Iceland', 'India', 'Indonesia', 'Iran', 'Iraq', 'Ireland', 'Israel', 'Italy', 'Ivory Coast', 'Jamaica', 'Japan', 'Jordan', 'Kazakhstan', 'Kenya', 'Kosovo', 'Kuwait', 'Kyrgyzstan', 'Laos', 'Latvia', 'Lebanon', 'Lesotho', 'Liberia', 'Libya', 'Lithuania', 'Luxembourg', 'Macedonia', 'Madagascar', 'Malawi', 'Malaysia', 'Mali', 'Malta', 'Mauritania', 'Mauritius', 'Mexico', 'Moldova', 'Mongolia', 'Montenegro', 'Morocco', 'Mozambique', 'Myanmar', 'Nepal', 'Netherlands', 'New Zealand', 'Nicaragua', 'Niger', 'Nigeria', 'North Cyprus', 'Norway', 'Oman', 'Pakistan', 'Palestinian Territories', 'Panama', 'Paraguay', 'Peru', 'Philippines', 'Poland', 'Portugal', 'Qatar', 'Romania', 'Russia', 'Rwanda', 'Saudi Arabia', 'Senegal', 'Serbia', 'Sierra Leone', 'Singapore', 'Slovakia', 'Slovenia', 'Somaliland region', 'South Africa', 'South Korea', 'Spain', 'Sri Lanka', 'Sudan', 'Suriname', 'Swaziland', 'Sweden', 'Switzerland', 'Syria', 'Taiwan', 'Tajikistan', 'Tanzania', 'Thailand', 'Togo', 'Trinidad and Tobago', 'Tunisia', 'Turkey', 'Turkmenistan', 'Uganda', 'Ukraine', 'United Arab Emirates', 'United Kingdom', 'United States', 'Uruguay', 'Uzbekistan', 'Venezuela', 'Vietnam', 'Yemen', 'Zambia', 'Zimbabwe']\n"
     ]
    }
   ],
   "source": [
    "# used the year 2015 because it had the most countries among the years\n",
    "country = pd.read_sql_query(\"SELECT DISTINCT `Country` FROM `happiness`.`2015` ORDER BY `Country` ASC;\", conn)\n",
    "countries_list = country['Country'].to_list()\n",
    "print(countries_list)"
   ]
  },
  {
   "cell_type": "code",
   "execution_count": 10,
   "id": "b207a94b",
   "metadata": {
    "scrolled": true
   },
   "outputs": [
    {
     "name": "stdout",
     "output_type": "stream",
     "text": [
      "['Australia and New Zealand', 'Central and Eastern Europe', 'Eastern Asia', 'Latin America and Caribbean', 'Middle East and Northern Africa', 'North America', 'Southeastern Asia', 'Southern Asia', 'Sub-Saharan Africa', 'Western Europe']\n"
     ]
    }
   ],
   "source": [
    "region = pd.read_sql_query(\"SELECT DISTINCT `Region` FROM `happiness`.`2015` ORDER BY `Region` ASC;\", conn)\n",
    "regions_list = region['Region'].to_list()\n",
    "print(regions_list)"
   ]
  },
  {
   "cell_type": "markdown",
   "id": "f35437ab",
   "metadata": {},
   "source": [
    "## Question #1"
   ]
  },
  {
   "cell_type": "markdown",
   "id": "7d92be6d",
   "metadata": {},
   "source": [
    "### Finds the rank difference of the selected country against the two different years selected"
   ]
  },
  {
   "cell_type": "markdown",
   "id": "8043c057",
   "metadata": {},
   "source": [
    "#### Step 1: Choose the year and country wanted"
   ]
  },
  {
   "cell_type": "code",
   "execution_count": 22,
   "id": "0ea1bc13",
   "metadata": {},
   "outputs": [],
   "source": [
    "# YEARS TO CHOOSE FROM: 2015, 2016, 2017, 2018, 2019 (make sure to put into string form)\n",
    "starting_year = \"2015\"\n",
    "ending_year = \"2019\""
   ]
  },
  {
   "cell_type": "code",
   "execution_count": 23,
   "id": "3a48a234",
   "metadata": {},
   "outputs": [
    {
     "data": {
      "text/html": [
       "<div>\n",
       "<style scoped>\n",
       "    .dataframe tbody tr th:only-of-type {\n",
       "        vertical-align: middle;\n",
       "    }\n",
       "\n",
       "    .dataframe tbody tr th {\n",
       "        vertical-align: top;\n",
       "    }\n",
       "\n",
       "    .dataframe thead th {\n",
       "        text-align: right;\n",
       "    }\n",
       "</style>\n",
       "<table border=\"1\" class=\"dataframe\">\n",
       "  <thead>\n",
       "    <tr style=\"text-align: right;\">\n",
       "      <th></th>\n",
       "      <th>country</th>\n",
       "      <th>Happiness Rank Difference</th>\n",
       "    </tr>\n",
       "  </thead>\n",
       "  <tbody>\n",
       "    <tr>\n",
       "      <th>0</th>\n",
       "      <td>Switzerland</td>\n",
       "      <td>-5</td>\n",
       "    </tr>\n",
       "  </tbody>\n",
       "</table>\n",
       "</div>"
      ],
      "text/plain": [
       "       country  Happiness Rank Difference\n",
       "0  Switzerland                         -5"
      ]
     },
     "execution_count": 23,
     "metadata": {},
     "output_type": "execute_result"
    }
   ],
   "source": [
    "country = \"Switzerland\"\n",
    "query1 = \"SELECT happiness.`\" + starting_year + \"`.`country`, happiness.`\" + \\\n",
    "          starting_year + \"`.`Happiness Rank` - happiness.`\" + ending_year + \\\n",
    "          \"`.`Happiness Rank` AS 'Happiness Rank Difference' FROM happiness.`\" + \\\n",
    "          ending_year + \"` INNER JOIN happiness.`\" + starting_year + \\\n",
    "          \"` ON happiness.`\" + ending_year + \"`.`Country` = happiness.`\" + starting_year + \\\n",
    "          \"`.`Country` WHERE happiness.`\" + ending_year + \"`.`Country` = '\" + country + \"'\"\n",
    "df1 = pd.read_sql_query(query1, conn)\n",
    "df1"
   ]
  },
  {
   "cell_type": "markdown",
   "id": "7b77f26b",
   "metadata": {},
   "source": [
    "## Question #2"
   ]
  },
  {
   "cell_type": "markdown",
   "id": "595e4e3d",
   "metadata": {},
   "source": [
    "### Finds the average rank difference amongst countries in the selected region against the two different years selected"
   ]
  },
  {
   "cell_type": "code",
   "execution_count": 24,
   "id": "5160faae",
   "metadata": {},
   "outputs": [],
   "source": [
    "# YEARS TO CHOOSE FROM: 2015, 2016, 2017, 2018, 2019 (make sure to put into string form)\n",
    "starting_year = \"2015\"\n",
    "ending_year = \"2018\""
   ]
  },
  {
   "cell_type": "code",
   "execution_count": 25,
   "id": "03ac5034",
   "metadata": {},
   "outputs": [
    {
     "data": {
      "text/html": [
       "<div>\n",
       "<style scoped>\n",
       "    .dataframe tbody tr th:only-of-type {\n",
       "        vertical-align: middle;\n",
       "    }\n",
       "\n",
       "    .dataframe tbody tr th {\n",
       "        vertical-align: top;\n",
       "    }\n",
       "\n",
       "    .dataframe thead th {\n",
       "        text-align: right;\n",
       "    }\n",
       "</style>\n",
       "<table border=\"1\" class=\"dataframe\">\n",
       "  <thead>\n",
       "    <tr style=\"text-align: right;\">\n",
       "      <th></th>\n",
       "      <th>region</th>\n",
       "      <th>Happiness Rank Difference</th>\n",
       "    </tr>\n",
       "  </thead>\n",
       "  <tbody>\n",
       "    <tr>\n",
       "      <th>0</th>\n",
       "      <td>North America</td>\n",
       "      <td>-2.5</td>\n",
       "    </tr>\n",
       "  </tbody>\n",
       "</table>\n",
       "</div>"
      ],
      "text/plain": [
       "          region  Happiness Rank Difference\n",
       "0  North America                       -2.5"
      ]
     },
     "execution_count": 25,
     "metadata": {},
     "output_type": "execute_result"
    }
   ],
   "source": [
    "region = \"North America\"\n",
    "query2 = \"SELECT happiness.`\" + starting_year + \"`.`region`, AVG(happiness.`\" + \\\n",
    "          starting_year + \"`.`Happiness Rank` - happiness.`\" + ending_year + \\\n",
    "          \"`.`Happiness Rank`) AS 'Happiness Rank Difference' FROM happiness.`\" + \\\n",
    "          ending_year + \"` INNER JOIN happiness.`\" + starting_year + \"` ON happiness.`\" + \\\n",
    "          ending_year + \"`.`Country` = happiness.`\" + starting_year + \"`.`Country` WHERE happiness.`\" + \\\n",
    "          starting_year + \"`.`region` = '\" + region + \"' GROUP BY `\" + starting_year + \"`.`region`\"\n",
    "df2 = pd.read_sql_query(query2, conn)\n",
    "df2"
   ]
  },
  {
   "cell_type": "markdown",
   "id": "706da691",
   "metadata": {},
   "source": [
    "## Question 3"
   ]
  },
  {
   "cell_type": "markdown",
   "id": "f5085818",
   "metadata": {},
   "source": [
    "### Out of curiosity, I wanted to see the breakdown of the factors that impacts the Happiness Rank and Score"
   ]
  },
  {
   "cell_type": "code",
   "execution_count": null,
   "id": "5e1305af",
   "metadata": {},
   "outputs": [],
   "source": [
    "starting_year = \"2015\"\n",
    "ending_year = \"2019\"\n",
    "country = 'Netherlands'"
   ]
  },
  {
   "cell_type": "code",
   "execution_count": 63,
   "id": "ff9c3a64",
   "metadata": {},
   "outputs": [
    {
     "data": {
      "text/html": [
       "<div>\n",
       "<style scoped>\n",
       "    .dataframe tbody tr th:only-of-type {\n",
       "        vertical-align: middle;\n",
       "    }\n",
       "\n",
       "    .dataframe tbody tr th {\n",
       "        vertical-align: top;\n",
       "    }\n",
       "\n",
       "    .dataframe thead th {\n",
       "        text-align: right;\n",
       "    }\n",
       "</style>\n",
       "<table border=\"1\" class=\"dataframe\">\n",
       "  <thead>\n",
       "    <tr style=\"text-align: right;\">\n",
       "      <th></th>\n",
       "      <th>country</th>\n",
       "      <th>Happiness Rank Difference</th>\n",
       "      <th>Happiness Score Difference</th>\n",
       "      <th>Economic Difference</th>\n",
       "      <th>Health Difference</th>\n",
       "      <th>Freedom Difference</th>\n",
       "      <th>Governmental Difference</th>\n",
       "    </tr>\n",
       "  </thead>\n",
       "  <tbody>\n",
       "    <tr>\n",
       "      <th>0</th>\n",
       "      <td>Netherlands</td>\n",
       "      <td>2</td>\n",
       "      <td>0.11</td>\n",
       "      <td>0.0666</td>\n",
       "      <td>0.1062</td>\n",
       "      <td>-0.0588</td>\n",
       "      <td>-0.0201</td>\n",
       "    </tr>\n",
       "  </tbody>\n",
       "</table>\n",
       "</div>"
      ],
      "text/plain": [
       "       country  Happiness Rank Difference  Happiness Score Difference  \\\n",
       "0  Netherlands                          2                        0.11   \n",
       "\n",
       "   Economic Difference  Health Difference  Freedom Difference  \\\n",
       "0               0.0666             0.1062             -0.0588   \n",
       "\n",
       "   Governmental Difference  \n",
       "0                  -0.0201  "
      ]
     },
     "execution_count": 63,
     "metadata": {},
     "output_type": "execute_result"
    }
   ],
   "source": [
    "query3 = \"SELECT happiness.`\" + starting_year + \"`.`country`,(happiness.`\" + starting_year + \\\n",
    "\"`.`Happiness Rank` - happiness.`\" + ending_year + \"`.`Happiness Rank`) AS 'Happiness Rank Difference', ROUND(happiness.`\" \\\n",
    "+ ending_year + \"`.`Happiness Score` - happiness.`\" + starting_year + \\\n",
    "\"`.`Happiness Score`, 4) AS 'Happiness Score Difference', ROUND(happiness.`\" + ending_year + \\\n",
    "\"`.`Economy` - happiness.`\" + starting_year + \"`.`Economy`, 4) AS 'Economic Difference', ROUND(happiness.`\" + \\\n",
    "ending_year + \"`.`Health` - happiness.`\" + starting_year + \"`.`Health`, 4) AS 'Health Difference', ROUND(happiness.`\" + \\\n",
    "ending_year + \"`.`Freedom` - happiness.`\" + starting_year + \"`.`Freedom`, 4) AS 'Freedom Difference', ROUND(happiness.`\" + \\\n",
    "ending_year + \"`.`Government` - happiness.`\" + starting_year + \"`.`Government`, 4) AS 'Governmental Difference' FROM happiness.`\" + \\\n",
    "ending_year + \"`INNER JOIN happiness.`\" + starting_year + \"`ON happiness.`\" + \\\n",
    "ending_year + \"`.`Country` = happiness.`\" + starting_year + \"`.`Country` WHERE `\" + starting_year + \"`.`Country` = '\" + country + \"'\"\n",
    "\n",
    "diff = pd.read_sql_query(query3, conn)\n",
    "diff"
   ]
  },
  {
   "cell_type": "markdown",
   "id": "d4d26ea3",
   "metadata": {},
   "source": [
    "### Interactive Plot: to visualize difference in economy, health, freedom, and government\n",
    "#### - click left key for individual categories and hold shift for multiple - "
   ]
  },
  {
   "cell_type": "code",
   "execution_count": 64,
   "id": "ede70079",
   "metadata": {},
   "outputs": [
    {
     "data": {
      "text/html": [
       "\n",
       "<div id=\"altair-viz-5b5a329758794ca6a5750d3e62f77783\"></div>\n",
       "<script type=\"text/javascript\">\n",
       "  var VEGA_DEBUG = (typeof VEGA_DEBUG == \"undefined\") ? {} : VEGA_DEBUG;\n",
       "  (function(spec, embedOpt){\n",
       "    let outputDiv = document.currentScript.previousElementSibling;\n",
       "    if (outputDiv.id !== \"altair-viz-5b5a329758794ca6a5750d3e62f77783\") {\n",
       "      outputDiv = document.getElementById(\"altair-viz-5b5a329758794ca6a5750d3e62f77783\");\n",
       "    }\n",
       "    const paths = {\n",
       "      \"vega\": \"https://cdn.jsdelivr.net/npm//vega@5?noext\",\n",
       "      \"vega-lib\": \"https://cdn.jsdelivr.net/npm//vega-lib?noext\",\n",
       "      \"vega-lite\": \"https://cdn.jsdelivr.net/npm//vega-lite@4.17.0?noext\",\n",
       "      \"vega-embed\": \"https://cdn.jsdelivr.net/npm//vega-embed@6?noext\",\n",
       "    };\n",
       "\n",
       "    function maybeLoadScript(lib, version) {\n",
       "      var key = `${lib.replace(\"-\", \"\")}_version`;\n",
       "      return (VEGA_DEBUG[key] == version) ?\n",
       "        Promise.resolve(paths[lib]) :\n",
       "        new Promise(function(resolve, reject) {\n",
       "          var s = document.createElement('script');\n",
       "          document.getElementsByTagName(\"head\")[0].appendChild(s);\n",
       "          s.async = true;\n",
       "          s.onload = () => {\n",
       "            VEGA_DEBUG[key] = version;\n",
       "            return resolve(paths[lib]);\n",
       "          };\n",
       "          s.onerror = () => reject(`Error loading script: ${paths[lib]}`);\n",
       "          s.src = paths[lib];\n",
       "        });\n",
       "    }\n",
       "\n",
       "    function showError(err) {\n",
       "      outputDiv.innerHTML = `<div class=\"error\" style=\"color:red;\">${err}</div>`;\n",
       "      throw err;\n",
       "    }\n",
       "\n",
       "    function displayChart(vegaEmbed) {\n",
       "      vegaEmbed(outputDiv, spec, embedOpt)\n",
       "        .catch(err => showError(`Javascript Error: ${err.message}<br>This usually means there's a typo in your chart specification. See the javascript console for the full traceback.`));\n",
       "    }\n",
       "\n",
       "    if(typeof define === \"function\" && define.amd) {\n",
       "      requirejs.config({paths});\n",
       "      require([\"vega-embed\"], displayChart, err => showError(`Error loading script: ${err.message}`));\n",
       "    } else {\n",
       "      maybeLoadScript(\"vega\", \"5\")\n",
       "        .then(() => maybeLoadScript(\"vega-lite\", \"4.17.0\"))\n",
       "        .then(() => maybeLoadScript(\"vega-embed\", \"6\"))\n",
       "        .catch(showError)\n",
       "        .then(() => displayChart(vegaEmbed));\n",
       "    }\n",
       "  })({\"config\": {\"view\": {\"continuousWidth\": 400, \"continuousHeight\": 300}}, \"hconcat\": [{\"data\": {\"name\": \"data-c5cba7b0977e3917b40859c80914be5a\"}, \"mark\": \"rect\", \"encoding\": {\"color\": {\"condition\": {\"field\": \"Category\", \"type\": \"nominal\", \"selection\": \"selector020\"}, \"value\": \"lightgray\"}, \"y\": {\"field\": \"Category\", \"type\": \"nominal\"}}, \"selection\": {\"selector020\": {\"type\": \"multi\", \"fields\": [\"Category\"]}}}, {\"data\": {\"name\": \"data-d6cab32ccd4ef2d7566a38db6bde2a3e\"}, \"mark\": \"line\", \"encoding\": {\"color\": {\"field\": \"Category\", \"type\": \"nominal\"}, \"x\": {\"field\": \"Year\", \"type\": \"nominal\"}, \"y\": {\"field\": \"Category Score\", \"scale\": {\"domain\": [0, 2]}, \"type\": \"quantitative\"}}, \"title\": \"Comparing Scores Affecting Happiness\", \"transform\": [{\"filter\": {\"selection\": \"selector020\"}}], \"width\": 250}], \"$schema\": \"https://vega.github.io/schema/vega-lite/v4.17.0.json\", \"datasets\": {\"data-c5cba7b0977e3917b40859c80914be5a\": [{\"Category\": \"Economy\"}, {\"Category\": \"Health\"}, {\"Category\": \"Freedom\"}, {\"Category\": \"Government\"}], \"data-d6cab32ccd4ef2d7566a38db6bde2a3e\": [{\"Year\": \"2015\", \"Category\": \"Economy\", \"Category Score\": 1.32944}, {\"Year\": \"2019\", \"Category\": \"Economy\", \"Category Score\": 1.396}, {\"Year\": \"2015\", \"Category\": \"Health\", \"Category Score\": 0.89284}, {\"Year\": \"2019\", \"Category\": \"Health\", \"Category Score\": 0.999}, {\"Year\": \"2015\", \"Category\": \"Freedom\", \"Category Score\": 0.61576}, {\"Year\": \"2019\", \"Category\": \"Freedom\", \"Category Score\": 0.557}, {\"Year\": \"2015\", \"Category\": \"Government\", \"Category Score\": 0.31814}, {\"Year\": \"2019\", \"Category\": \"Government\", \"Category Score\": 0.298}]}}, {\"mode\": \"vega-lite\"});\n",
       "</script>"
      ],
      "text/plain": [
       "alt.HConcatChart(...)"
      ]
     },
     "execution_count": 64,
     "metadata": {},
     "output_type": "execute_result"
    }
   ],
   "source": [
    "start = \"SELECT `Country`, `Happiness Rank`, `Happiness Score`, `Economy`, `Health`, `Freedom`, `Government` FROM `Happiness`.`\" + starting_year + \"` WHERE `Country` = '\" + country + \"'\"\n",
    "end = \"SELECT `Country`, `Happiness Rank`, `Happiness Score`, `Economy`, `Health`, `Freedom`, `Government` FROM `Happiness`.`\" + ending_year + \"` WHERE `Country` = '\" + country + \"'\"\n",
    "\n",
    "start_df = pd.read_sql_query(start, conn)\n",
    "start_df['Year'] = start_df['Year'] = starting_year\n",
    "end_df = pd.read_sql_query(end, conn)\n",
    "end_df['Year'] = end_df['Year'] = ending_year\n",
    "\n",
    "all_df = pd.concat([start_df, end_df])\n",
    "new_df = pd.melt(all_df, id_vars=['Year'], value_vars=['Economy', 'Health', 'Freedom', 'Government'], var_name = \"Category\")\n",
    "new_df = new_df.rename(columns = {'value': 'Category Score'})\n",
    "\n",
    "category = pd.DataFrame({'Category': ['Economy', 'Health', 'Freedom', 'Government']})\n",
    "selection = alt.selection_multi(fields=['Category'])\n",
    "color = alt.condition(selection, alt.Color('Category:N'), alt.value('lightgray'))\n",
    "make_selector = alt.Chart(category).mark_rect().encode(y='Category', color=color).add_selection(selection)\n",
    "score_chart = alt.Chart(new_df).mark_line().encode(x='Year:N', y=alt.Y('Category Score:Q', scale=alt.Scale(domain=[0, 2])), color='Category').transform_filter(selection).properties(title = \"Comparing Scores Affecting Happiness\", width = 250)\n",
    "\n",
    "make_selector | score_chart\n"
   ]
  },
  {
   "cell_type": "code",
   "execution_count": null,
   "id": "f0b34630",
   "metadata": {},
   "outputs": [],
   "source": [
    "# choose area instead of player\n",
    "# country still showing switzerland\n",
    "# change y-axis instead of value \n",
    "# add title"
   ]
  }
 ],
 "metadata": {
  "kernelspec": {
   "display_name": "Python 3 (ipykernel)",
   "language": "python",
   "name": "python3"
  },
  "language_info": {
   "codemirror_mode": {
    "name": "ipython",
    "version": 3
   },
   "file_extension": ".py",
   "mimetype": "text/x-python",
   "name": "python",
   "nbconvert_exporter": "python",
   "pygments_lexer": "ipython3",
   "version": "3.9.7"
  }
 },
 "nbformat": 4,
 "nbformat_minor": 5
}

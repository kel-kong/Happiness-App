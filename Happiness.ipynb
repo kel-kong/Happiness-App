{
 "cells": [
  {
   "cell_type": "code",
   "execution_count": 329,
   "id": "631d8cb3",
   "metadata": {},
   "outputs": [],
   "source": [
    "import os\n",
    "import pymysql\n",
    "import pandas as pd\n",
    "import altair as alt"
   ]
  },
  {
   "cell_type": "markdown",
   "id": "d2d9161a",
   "metadata": {},
   "source": [
    "## Connecting to Database"
   ]
  },
  {
   "cell_type": "code",
   "execution_count": 237,
   "id": "155eeb41",
   "metadata": {},
   "outputs": [],
   "source": [
    "host = os.getenv('MYSQL_HOST')\n",
    "port = os.getenv('MYSQL_PORT')\n",
    "user = os.getenv('MYSQL_USER')\n",
    "password = \"cricket123\"\n",
    "database = os.getenv('MYSQL_DATABASE')"
   ]
  },
  {
   "cell_type": "code",
   "execution_count": 238,
   "id": "4f03ca9c",
   "metadata": {},
   "outputs": [],
   "source": [
    "conn = pymysql.connect(\n",
    "    host = host,\n",
    "    port = port,\n",
    "    user = \"root\",\n",
    "    passwd = password,\n",
    "    db = \"happiness\",\n",
    "    charset = 'utf8mb4')"
   ]
  },
  {
   "cell_type": "markdown",
   "id": "1b7786bb",
   "metadata": {},
   "source": [
    "## Question #1"
   ]
  },
  {
   "cell_type": "code",
   "execution_count": 248,
   "id": "b21e4a6e",
   "metadata": {},
   "outputs": [
    {
     "name": "stderr",
     "output_type": "stream",
     "text": [
      "/Users/kelkong/opt/miniconda3/lib/python3.9/site-packages/pandas/io/sql.py:758: UserWarning: pandas only support SQLAlchemy connectable(engine/connection) ordatabase string URI or sqlite3 DBAPI2 connectionother DBAPI2 objects are not tested, please consider using SQLAlchemy\n",
      "  warnings.warn(\n"
     ]
    },
    {
     "data": {
      "text/html": [
       "<div>\n",
       "<style scoped>\n",
       "    .dataframe tbody tr th:only-of-type {\n",
       "        vertical-align: middle;\n",
       "    }\n",
       "\n",
       "    .dataframe tbody tr th {\n",
       "        vertical-align: top;\n",
       "    }\n",
       "\n",
       "    .dataframe thead th {\n",
       "        text-align: right;\n",
       "    }\n",
       "</style>\n",
       "<table border=\"1\" class=\"dataframe\">\n",
       "  <thead>\n",
       "    <tr style=\"text-align: right;\">\n",
       "      <th></th>\n",
       "      <th>country</th>\n",
       "      <th>Happiness Rank Difference</th>\n",
       "    </tr>\n",
       "  </thead>\n",
       "  <tbody>\n",
       "    <tr>\n",
       "      <th>0</th>\n",
       "      <td>Switzerland</td>\n",
       "      <td>-4</td>\n",
       "    </tr>\n",
       "  </tbody>\n",
       "</table>\n",
       "</div>"
      ],
      "text/plain": [
       "       country  Happiness Rank Difference\n",
       "0  Switzerland                         -4"
      ]
     },
     "execution_count": 248,
     "metadata": {},
     "output_type": "execute_result"
    }
   ],
   "source": [
    "starting_year = \"2015\"\n",
    "ending_year = \"2018\"\n",
    "country = \"Switzerland\"\n",
    "query1 = \"SELECT happiness.`\" + starting_year + \"`.`country`, happiness.`\" + \\\n",
    "          starting_year + \"`.`Happiness Rank` - happiness.`\" + ending_year + \\\n",
    "          \"`.`Happiness Rank` AS 'Happiness Rank Difference' FROM happiness.`\" + \\\n",
    "          ending_year + \"` INNER JOIN happiness.`\" + starting_year + \\\n",
    "          \"` ON happiness.`\" + ending_year + \"`.`Country` = happiness.`\" + starting_year + \\\n",
    "          \"`.`Country` WHERE happiness.`\" + ending_year + \"`.`Country` = '\" + country + \"'\"\n",
    "df1 = pd.read_sql_query(query1, conn)\n",
    "df1"
   ]
  },
  {
   "cell_type": "markdown",
   "id": "f1865aa0",
   "metadata": {},
   "source": [
    "## Question #2"
   ]
  },
  {
   "cell_type": "markdown",
   "id": "63aba4c4",
   "metadata": {},
   "source": [
    "### Finding the average rank difference amongst countries in a region against two different years"
   ]
  },
  {
   "cell_type": "code",
   "execution_count": 249,
   "id": "37f55c25",
   "metadata": {},
   "outputs": [
    {
     "name": "stderr",
     "output_type": "stream",
     "text": [
      "/Users/kelkong/opt/miniconda3/lib/python3.9/site-packages/pandas/io/sql.py:758: UserWarning: pandas only support SQLAlchemy connectable(engine/connection) ordatabase string URI or sqlite3 DBAPI2 connectionother DBAPI2 objects are not tested, please consider using SQLAlchemy\n",
      "  warnings.warn(\n"
     ]
    },
    {
     "data": {
      "text/html": [
       "<div>\n",
       "<style scoped>\n",
       "    .dataframe tbody tr th:only-of-type {\n",
       "        vertical-align: middle;\n",
       "    }\n",
       "\n",
       "    .dataframe tbody tr th {\n",
       "        vertical-align: top;\n",
       "    }\n",
       "\n",
       "    .dataframe thead th {\n",
       "        text-align: right;\n",
       "    }\n",
       "</style>\n",
       "<table border=\"1\" class=\"dataframe\">\n",
       "  <thead>\n",
       "    <tr style=\"text-align: right;\">\n",
       "      <th></th>\n",
       "      <th>region</th>\n",
       "      <th>Happiness Rank Difference</th>\n",
       "    </tr>\n",
       "  </thead>\n",
       "  <tbody>\n",
       "    <tr>\n",
       "      <th>0</th>\n",
       "      <td>North America</td>\n",
       "      <td>-2.5</td>\n",
       "    </tr>\n",
       "  </tbody>\n",
       "</table>\n",
       "</div>"
      ],
      "text/plain": [
       "          region  Happiness Rank Difference\n",
       "0  North America                       -2.5"
      ]
     },
     "execution_count": 249,
     "metadata": {},
     "output_type": "execute_result"
    }
   ],
   "source": [
    "starting_year = \"2015\"\n",
    "ending_year = \"2018\"\n",
    "region = \"North America\"\n",
    "query2 = \"SELECT happiness.`\" + starting_year + \"`.`region`, AVG(happiness.`\" + \\\n",
    "          starting_year + \"`.`Happiness Rank` - happiness.`\" + ending_year + \\\n",
    "          \"`.`Happiness Rank`) AS 'Happiness Rank Difference' FROM happiness.`\" + \\\n",
    "          ending_year + \"` INNER JOIN happiness.`\" + starting_year + \"` ON happiness.`\" + \\\n",
    "          ending_year + \"`.`Country` = happiness.`\" + starting_year + \"`.`Country` WHERE happiness.`\" + \\\n",
    "          starting_year + \"`.`region` = '\" + region + \"' GROUP BY `\" + starting_year + \"`.`region`\"\n",
    "df2 = pd.read_sql_query(query2, conn)\n",
    "df2"
   ]
  },
  {
   "cell_type": "markdown",
   "id": "7723174a",
   "metadata": {},
   "source": [
    "## Question 3"
   ]
  },
  {
   "cell_type": "markdown",
   "id": "335a6afc",
   "metadata": {},
   "source": [
    "### Out of curiosity, I wanted to see the breakdown of the factors that impacts the Happiness Rank and Score"
   ]
  },
  {
   "cell_type": "code",
   "execution_count": 331,
   "id": "7a61244a",
   "metadata": {},
   "outputs": [
    {
     "name": "stderr",
     "output_type": "stream",
     "text": [
      "/Users/kelkong/opt/miniconda3/lib/python3.9/site-packages/pandas/io/sql.py:758: UserWarning: pandas only support SQLAlchemy connectable(engine/connection) ordatabase string URI or sqlite3 DBAPI2 connectionother DBAPI2 objects are not tested, please consider using SQLAlchemy\n",
      "  warnings.warn(\n"
     ]
    },
    {
     "data": {
      "text/html": [
       "<div>\n",
       "<style scoped>\n",
       "    .dataframe tbody tr th:only-of-type {\n",
       "        vertical-align: middle;\n",
       "    }\n",
       "\n",
       "    .dataframe tbody tr th {\n",
       "        vertical-align: top;\n",
       "    }\n",
       "\n",
       "    .dataframe thead th {\n",
       "        text-align: right;\n",
       "    }\n",
       "</style>\n",
       "<table border=\"1\" class=\"dataframe\">\n",
       "  <thead>\n",
       "    <tr style=\"text-align: right;\">\n",
       "      <th></th>\n",
       "      <th>country</th>\n",
       "      <th>Happiness Rank Difference</th>\n",
       "      <th>Happiness Score Difference</th>\n",
       "      <th>Economic Difference</th>\n",
       "      <th>Health Difference</th>\n",
       "      <th>Freedom Difference</th>\n",
       "      <th>Governmental Difference</th>\n",
       "    </tr>\n",
       "  </thead>\n",
       "  <tbody>\n",
       "    <tr>\n",
       "      <th>0</th>\n",
       "      <td>Switzerland</td>\n",
       "      <td>-1</td>\n",
       "      <td>0.078</td>\n",
       "      <td>-0.1308</td>\n",
       "      <td>0.0784</td>\n",
       "      <td>0.08</td>\n",
       "      <td>0.0077</td>\n",
       "    </tr>\n",
       "  </tbody>\n",
       "</table>\n",
       "</div>"
      ],
      "text/plain": [
       "       country  Happiness Rank Difference  Happiness Score Difference  \\\n",
       "0  Switzerland                         -1                       0.078   \n",
       "\n",
       "   Economic Difference  Health Difference  Freedom Difference  \\\n",
       "0              -0.1308             0.0784                0.08   \n",
       "\n",
       "   Governmental Difference  \n",
       "0                   0.0077  "
      ]
     },
     "execution_count": 331,
     "metadata": {},
     "output_type": "execute_result"
    }
   ],
   "source": [
    "starting_year = \"2015\"\n",
    "ending_year = \"2016\"\n",
    "country = 'Switzerland'\n",
    "query3 = \"SELECT happiness.`\" + starting_year + \"`.`country`,(happiness.`\" + starting_year + \\\n",
    "\"`.`Happiness Rank` - happiness.`\" + ending_year + \"`.`Happiness Rank`) AS 'Happiness Rank Difference', ROUND(happiness.`\" \\\n",
    "+ starting_year + \"`.`Happiness Score` - happiness.`\" + ending_year + \\\n",
    "\"`.`Happiness Score`, 4) AS 'Happiness Score Difference', ROUND(happiness.`\" + starting_year + \\\n",
    "\"`.`Economy` - happiness.`\" + ending_year + \"`.`Economy`, 4) AS 'Economic Difference', ROUND(happiness.`\" + \\\n",
    "starting_year + \"`.`Health` - happiness.`2016`.`Health`, 4) AS 'Health Difference', ROUND(happiness.`\" + \\\n",
    "starting_year + \"`.`Freedom` - happiness.`\" + ending_year + \"`.`Freedom`, 4) AS 'Freedom Difference', ROUND(happiness.`\" + \\\n",
    "starting_year + \"`.`Government` - happiness.`2016`.`Government`, 4) AS 'Governmental Difference' FROM happiness.`\" + \\\n",
    "ending_year + \"`INNER JOIN happiness.`\" + starting_year + \"`ON happiness.`\" + \\\n",
    "ending_year + \"`.`Country` = happiness.`\" + starting_year + \"`.`Country` WHERE `\" + starting_year + \"`.`Country` = 'Switzerland'\"\n",
    "\n",
    "diff = pd.read_sql_query(query3, conn)\n",
    "diff"
   ]
  },
  {
   "cell_type": "markdown",
   "id": "80e92c0c",
   "metadata": {},
   "source": [
    "### Interactive Plot: to visualize difference in economy, health, freedom, and government\n",
    "#### - click left key for individual categories and hold shift for multiple - "
   ]
  },
  {
   "cell_type": "code",
   "execution_count": 332,
   "id": "678263c4",
   "metadata": {},
   "outputs": [
    {
     "name": "stderr",
     "output_type": "stream",
     "text": [
      "/Users/kelkong/opt/miniconda3/lib/python3.9/site-packages/pandas/io/sql.py:758: UserWarning: pandas only support SQLAlchemy connectable(engine/connection) ordatabase string URI or sqlite3 DBAPI2 connectionother DBAPI2 objects are not tested, please consider using SQLAlchemy\n",
      "  warnings.warn(\n",
      "/Users/kelkong/opt/miniconda3/lib/python3.9/site-packages/pandas/io/sql.py:758: UserWarning: pandas only support SQLAlchemy connectable(engine/connection) ordatabase string URI or sqlite3 DBAPI2 connectionother DBAPI2 objects are not tested, please consider using SQLAlchemy\n",
      "  warnings.warn(\n"
     ]
    },
    {
     "data": {
      "text/html": [
       "\n",
       "<div id=\"altair-viz-7a5f550343234ef29c66fc9fdacc9e91\"></div>\n",
       "<script type=\"text/javascript\">\n",
       "  var VEGA_DEBUG = (typeof VEGA_DEBUG == \"undefined\") ? {} : VEGA_DEBUG;\n",
       "  (function(spec, embedOpt){\n",
       "    let outputDiv = document.currentScript.previousElementSibling;\n",
       "    if (outputDiv.id !== \"altair-viz-7a5f550343234ef29c66fc9fdacc9e91\") {\n",
       "      outputDiv = document.getElementById(\"altair-viz-7a5f550343234ef29c66fc9fdacc9e91\");\n",
       "    }\n",
       "    const paths = {\n",
       "      \"vega\": \"https://cdn.jsdelivr.net/npm//vega@5?noext\",\n",
       "      \"vega-lib\": \"https://cdn.jsdelivr.net/npm//vega-lib?noext\",\n",
       "      \"vega-lite\": \"https://cdn.jsdelivr.net/npm//vega-lite@4.17.0?noext\",\n",
       "      \"vega-embed\": \"https://cdn.jsdelivr.net/npm//vega-embed@6?noext\",\n",
       "    };\n",
       "\n",
       "    function maybeLoadScript(lib, version) {\n",
       "      var key = `${lib.replace(\"-\", \"\")}_version`;\n",
       "      return (VEGA_DEBUG[key] == version) ?\n",
       "        Promise.resolve(paths[lib]) :\n",
       "        new Promise(function(resolve, reject) {\n",
       "          var s = document.createElement('script');\n",
       "          document.getElementsByTagName(\"head\")[0].appendChild(s);\n",
       "          s.async = true;\n",
       "          s.onload = () => {\n",
       "            VEGA_DEBUG[key] = version;\n",
       "            return resolve(paths[lib]);\n",
       "          };\n",
       "          s.onerror = () => reject(`Error loading script: ${paths[lib]}`);\n",
       "          s.src = paths[lib];\n",
       "        });\n",
       "    }\n",
       "\n",
       "    function showError(err) {\n",
       "      outputDiv.innerHTML = `<div class=\"error\" style=\"color:red;\">${err}</div>`;\n",
       "      throw err;\n",
       "    }\n",
       "\n",
       "    function displayChart(vegaEmbed) {\n",
       "      vegaEmbed(outputDiv, spec, embedOpt)\n",
       "        .catch(err => showError(`Javascript Error: ${err.message}<br>This usually means there's a typo in your chart specification. See the javascript console for the full traceback.`));\n",
       "    }\n",
       "\n",
       "    if(typeof define === \"function\" && define.amd) {\n",
       "      requirejs.config({paths});\n",
       "      require([\"vega-embed\"], displayChart, err => showError(`Error loading script: ${err.message}`));\n",
       "    } else {\n",
       "      maybeLoadScript(\"vega\", \"5\")\n",
       "        .then(() => maybeLoadScript(\"vega-lite\", \"4.17.0\"))\n",
       "        .then(() => maybeLoadScript(\"vega-embed\", \"6\"))\n",
       "        .catch(showError)\n",
       "        .then(() => displayChart(vegaEmbed));\n",
       "    }\n",
       "  })({\"config\": {\"view\": {\"continuousWidth\": 400, \"continuousHeight\": 300}}, \"hconcat\": [{\"data\": {\"name\": \"data-c5cba7b0977e3917b40859c80914be5a\"}, \"mark\": \"rect\", \"encoding\": {\"color\": {\"condition\": {\"field\": \"Category\", \"type\": \"nominal\", \"selection\": \"selector042\"}, \"value\": \"lightgray\"}, \"y\": {\"field\": \"Category\", \"type\": \"nominal\"}}, \"selection\": {\"selector042\": {\"type\": \"multi\", \"fields\": [\"Category\"]}}}, {\"data\": {\"name\": \"data-66b83b94abe6648901c7cc8671f34066\"}, \"mark\": \"line\", \"encoding\": {\"color\": {\"field\": \"Category\", \"type\": \"nominal\"}, \"x\": {\"field\": \"Year\", \"type\": \"nominal\"}, \"y\": {\"field\": \"value\", \"scale\": {\"domain\": [0, 2]}, \"type\": \"quantitative\"}}, \"transform\": [{\"filter\": {\"selection\": \"selector042\"}}], \"width\": 200}], \"$schema\": \"https://vega.github.io/schema/vega-lite/v4.17.0.json\", \"datasets\": {\"data-c5cba7b0977e3917b40859c80914be5a\": [{\"Category\": \"Economy\"}, {\"Category\": \"Health\"}, {\"Category\": \"Freedom\"}, {\"Category\": \"Government\"}], \"data-66b83b94abe6648901c7cc8671f34066\": [{\"Year\": \"2015\", \"Category\": \"Economy\", \"value\": 1.39651}, {\"Year\": \"2016\", \"Category\": \"Economy\", \"value\": 1.52733}, {\"Year\": \"2015\", \"Category\": \"Health\", \"value\": 0.94143}, {\"Year\": \"2016\", \"Category\": \"Health\", \"value\": 0.86303}, {\"Year\": \"2015\", \"Category\": \"Freedom\", \"value\": 0.66557}, {\"Year\": \"2016\", \"Category\": \"Freedom\", \"value\": 0.58557}, {\"Year\": \"2015\", \"Category\": \"Government\", \"value\": 0.41978}, {\"Year\": \"2016\", \"Category\": \"Government\", \"value\": 0.41203}]}}, {\"mode\": \"vega-lite\"});\n",
       "</script>"
      ],
      "text/plain": [
       "alt.HConcatChart(...)"
      ]
     },
     "execution_count": 332,
     "metadata": {},
     "output_type": "execute_result"
    }
   ],
   "source": [
    "country = 'Switzerland'\n",
    "starting_year = \"2015\"\n",
    "ending_year = \"2016\"\n",
    "start = \"SELECT `Country`, `Happiness Rank`, `Happiness Score`, `Economy`, `Health`, `Freedom`, `Government` FROM `Happiness`.`\" + starting_year + \"` WHERE `Country` = '\" + country + \"'\"\n",
    "end = \"SELECT `Country`, `Happiness Rank`, `Happiness Score`, `Economy`, `Health`, `Freedom`, `Government` FROM `Happiness`.`\" + ending_year + \"` WHERE `Country` = '\" + country + \"'\"\n",
    "\n",
    "start_df = pd.read_sql_query(start, conn)\n",
    "start_df['Year'] = start_df['Year'] = starting_year\n",
    "end_df = pd.read_sql_query(end, conn)\n",
    "end_df['Year'] = end_df['Year'] = ending_year\n",
    "\n",
    "all_df = pd.concat([start_df, end_df])\n",
    "new_df = pd.melt(all_df, id_vars=['Year'], value_vars=['Economy', 'Health', 'Freedom', 'Government'], var_name = \"Category\")\n",
    "\n",
    "category = pd.DataFrame({'Category': ['Economy', 'Health', 'Freedom', 'Government']})\n",
    "selection = alt.selection_multi(fields=['Category'])\n",
    "color = alt.condition(selection, alt.Color('Category:N'), alt.value('lightgray'))\n",
    "make_selector = alt.Chart(category).mark_rect().encode(y='Category', color=color).add_selection(selection)\n",
    "fuel_chart = alt.Chart(new_df).mark_line().encode(x='Year:N', y=alt.Y('value:Q', scale=alt.Scale(domain=[0, 2])), color='Category').transform_filter(selection).properties(width = 200)\n",
    "\n",
    "make_selector | fuel_chart\n"
   ]
  },
  {
   "cell_type": "markdown",
   "id": "fdb888fe",
   "metadata": {},
   "source": [
    "## Streamlit App Misc."
   ]
  },
  {
   "cell_type": "markdown",
   "id": "1465e924",
   "metadata": {},
   "source": [
    "### In order to create a dropdown menu with the different countries and regions options, below is how I got a list of countries/regions"
   ]
  },
  {
   "cell_type": "code",
   "execution_count": 200,
   "id": "72dbb3ad",
   "metadata": {},
   "outputs": [
    {
     "name": "stdout",
     "output_type": "stream",
     "text": [
      "['Afghanistan', 'Albania', 'Algeria', 'Angola', 'Argentina', 'Armenia', 'Australia', 'Austria', 'Azerbaijan', 'Bahrain', 'Bangladesh', 'Belarus', 'Belgium', 'Benin', 'Bhutan', 'Bolivia', 'Bosnia and Herzegovina', 'Botswana', 'Brazil', 'Bulgaria', 'Burkina Faso', 'Burundi', 'Cambodia', 'Cameroon', 'Canada', 'Central African Republic', 'Chad', 'Chile', 'China', 'Colombia', 'Comoros', 'Congo (Brazzaville)', 'Congo (Kinshasa)', 'Costa Rica', 'Croatia', 'Cyprus', 'Czech Republic', 'Denmark', 'Djibouti', 'Dominican Republic', 'Ecuador', 'Egypt', 'El Salvador', 'Estonia', 'Ethiopia', 'Finland', 'France', 'Gabon', 'Georgia', 'Germany', 'Ghana', 'Greece', 'Guatemala', 'Guinea', 'Haiti', 'Honduras', 'Hong Kong', 'Hungary', 'Iceland', 'India', 'Indonesia', 'Iran', 'Iraq', 'Ireland', 'Israel', 'Italy', 'Ivory Coast', 'Jamaica', 'Japan', 'Jordan', 'Kazakhstan', 'Kenya', 'Kosovo', 'Kuwait', 'Kyrgyzstan', 'Laos', 'Latvia', 'Lebanon', 'Lesotho', 'Liberia', 'Libya', 'Lithuania', 'Luxembourg', 'Macedonia', 'Madagascar', 'Malawi', 'Malaysia', 'Mali', 'Malta', 'Mauritania', 'Mauritius', 'Mexico', 'Moldova', 'Mongolia', 'Montenegro', 'Morocco', 'Mozambique', 'Myanmar', 'Nepal', 'Netherlands', 'New Zealand', 'Nicaragua', 'Niger', 'Nigeria', 'North Cyprus', 'Norway', 'Oman', 'Pakistan', 'Palestinian Territories', 'Panama', 'Paraguay', 'Peru', 'Philippines', 'Poland', 'Portugal', 'Qatar', 'Romania', 'Russia', 'Rwanda', 'Saudi Arabia', 'Senegal', 'Serbia', 'Sierra Leone', 'Singapore', 'Slovakia', 'Slovenia', 'Somaliland region', 'South Africa', 'South Korea', 'Spain', 'Sri Lanka', 'Sudan', 'Suriname', 'Swaziland', 'Sweden', 'Switzerland', 'Syria', 'Taiwan', 'Tajikistan', 'Tanzania', 'Thailand', 'Togo', 'Trinidad and Tobago', 'Tunisia', 'Turkey', 'Turkmenistan', 'Uganda', 'Ukraine', 'United Arab Emirates', 'United Kingdom', 'United States', 'Uruguay', 'Uzbekistan', 'Venezuela', 'Vietnam', 'Yemen', 'Zambia', 'Zimbabwe']\n"
     ]
    },
    {
     "name": "stderr",
     "output_type": "stream",
     "text": [
      "/Users/kelkong/opt/miniconda3/lib/python3.9/site-packages/pandas/io/sql.py:758: UserWarning: pandas only support SQLAlchemy connectable(engine/connection) ordatabase string URI or sqlite3 DBAPI2 connectionother DBAPI2 objects are not tested, please consider using SQLAlchemy\n",
      "  warnings.warn(\n"
     ]
    }
   ],
   "source": [
    "country = pd.read_sql_query(\"SELECT DISTINCT `Country` FROM `happiness`.`2015` ORDER BY `Country` ASC;\", conn)\n",
    "countries_list = country['Country'].to_list()\n",
    "print(countries_list)"
   ]
  },
  {
   "cell_type": "code",
   "execution_count": 201,
   "id": "4f8f57fd",
   "metadata": {},
   "outputs": [
    {
     "name": "stdout",
     "output_type": "stream",
     "text": [
      "['Australia and New Zealand', 'Central and Eastern Europe', 'Eastern Asia', 'Latin America and Caribbean', 'Middle East and Northern Africa', 'North America', 'Southeastern Asia', 'Southern Asia', 'Sub-Saharan Africa', 'Western Europe']\n"
     ]
    },
    {
     "name": "stderr",
     "output_type": "stream",
     "text": [
      "/Users/kelkong/opt/miniconda3/lib/python3.9/site-packages/pandas/io/sql.py:758: UserWarning: pandas only support SQLAlchemy connectable(engine/connection) ordatabase string URI or sqlite3 DBAPI2 connectionother DBAPI2 objects are not tested, please consider using SQLAlchemy\n",
      "  warnings.warn(\n"
     ]
    }
   ],
   "source": [
    "region = pd.read_sql_query(\"SELECT DISTINCT `Region` FROM `happiness`.`2015` ORDER BY `Region` ASC;\", conn)\n",
    "regions_list = region['Region'].to_list()\n",
    "print(regions_list)"
   ]
  }
 ],
 "metadata": {
  "kernelspec": {
   "display_name": "Python 3 (ipykernel)",
   "language": "python",
   "name": "python3"
  },
  "language_info": {
   "codemirror_mode": {
    "name": "ipython",
    "version": 3
   },
   "file_extension": ".py",
   "mimetype": "text/x-python",
   "name": "python",
   "nbconvert_exporter": "python",
   "pygments_lexer": "ipython3",
   "version": "3.9.7"
  }
 },
 "nbformat": 4,
 "nbformat_minor": 5
}
